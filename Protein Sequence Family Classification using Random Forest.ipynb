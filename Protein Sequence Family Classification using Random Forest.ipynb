{
 "cells": [
  {
   "cell_type": "markdown",
   "metadata": {},
   "source": [
    " # Classification of protein families based on their sequence of aminoacids using Random Forest\n",
    "\n",
    "This notebook is based on the work found here:\n",
    "\n",
    "https://www.kaggle.com/danofer/protein-sequence-family-classification/notebook\n",
    "\n",
    "Using data from:\n",
    "\n",
    "https://www.kaggle.com/shahir/protein-data-set\n",
    "\n",
    "Where Neural Network (NN) is used to perform the prediction. This notebook sustitutes the NN with Random Forest (RF) together with tf-idf representation showing a similar performance (accuracy: 0.63) to the most complex NN when classifing only the 10 most common families."
   ]
  },
  {
   "cell_type": "code",
   "execution_count": 33,
   "metadata": {},
   "outputs": [],
   "source": [
    "# load packages\n",
    "from sklearn import model_selection, metrics\n",
    "from sklearn.feature_extraction.text import TfidfVectorizer\n",
    "from sklearn.decomposition import TruncatedSVD\n",
    "from sklearn import ensemble\n",
    "from sklearn.preprocessing import LabelEncoder\n",
    "from sklearn.metrics import accuracy_score, confusion_matrix\n",
    "\n",
    "from keras.preprocessing.text import Tokenizer\n",
    "from keras.preprocessing import sequence\n",
    "from collections import Counter\n",
    "\n",
    "import matplotlib.pyplot as plt\n",
    "import pandas as pd\n",
    "import numpy as np\n",
    "import random\n",
    "import pickle"
   ]
  },
  {
   "cell_type": "code",
   "execution_count": null,
   "metadata": {},
   "outputs": [],
   "source": [
    "#Data Directory\n",
    "input_dir='../Data/'\n",
    "#Output Directory\n",
    "output_dir='../Models/'"
   ]
  },
  {
   "cell_type": "code",
   "execution_count": 8,
   "metadata": {},
   "outputs": [
    {
     "name": "stdout",
     "output_type": "stream",
     "text": [
      "(87761, 18)\n"
     ]
    },
    {
     "data": {
      "text/html": [
       "<div>\n",
       "<style scoped>\n",
       "    .dataframe tbody tr th:only-of-type {\n",
       "        vertical-align: middle;\n",
       "    }\n",
       "\n",
       "    .dataframe tbody tr th {\n",
       "        vertical-align: top;\n",
       "    }\n",
       "\n",
       "    .dataframe thead th {\n",
       "        text-align: right;\n",
       "    }\n",
       "</style>\n",
       "<table border=\"1\" class=\"dataframe\">\n",
       "  <thead>\n",
       "    <tr style=\"text-align: right;\">\n",
       "      <th></th>\n",
       "      <th>structureId</th>\n",
       "      <th>classification</th>\n",
       "      <th>experimentalTechnique</th>\n",
       "      <th>macromoleculeType_x</th>\n",
       "      <th>residueCount_x</th>\n",
       "      <th>resolution</th>\n",
       "      <th>structureMolecularWeight</th>\n",
       "      <th>crystallizationMethod</th>\n",
       "      <th>crystallizationTempK</th>\n",
       "      <th>densityMatthews</th>\n",
       "      <th>densityPercentSol</th>\n",
       "      <th>pdbxDetails</th>\n",
       "      <th>phValue</th>\n",
       "      <th>publicationYear</th>\n",
       "      <th>chainId</th>\n",
       "      <th>sequence</th>\n",
       "      <th>residueCount_y</th>\n",
       "      <th>macromoleculeType_y</th>\n",
       "    </tr>\n",
       "  </thead>\n",
       "  <tbody>\n",
       "    <tr>\n",
       "      <th>4</th>\n",
       "      <td>101M</td>\n",
       "      <td>OXYGEN TRANSPORT</td>\n",
       "      <td>X-RAY DIFFRACTION</td>\n",
       "      <td>Protein</td>\n",
       "      <td>154</td>\n",
       "      <td>2.07</td>\n",
       "      <td>18112.80</td>\n",
       "      <td>NaN</td>\n",
       "      <td>NaN</td>\n",
       "      <td>3.09</td>\n",
       "      <td>60.20</td>\n",
       "      <td>3.0 M AMMONIUM SULFATE, 20 MM TRIS, 1MM EDTA, ...</td>\n",
       "      <td>9.0</td>\n",
       "      <td>1999.0</td>\n",
       "      <td>A</td>\n",
       "      <td>MVLSEGEWQLVLHVWAKVEADVAGHGQDILIRLFKSHPETLEKFDR...</td>\n",
       "      <td>154</td>\n",
       "      <td>Protein</td>\n",
       "    </tr>\n",
       "    <tr>\n",
       "      <th>7</th>\n",
       "      <td>102L</td>\n",
       "      <td>HYDROLASE(O-GLYCOSYL)</td>\n",
       "      <td>X-RAY DIFFRACTION</td>\n",
       "      <td>Protein</td>\n",
       "      <td>165</td>\n",
       "      <td>1.74</td>\n",
       "      <td>18926.61</td>\n",
       "      <td>NaN</td>\n",
       "      <td>NaN</td>\n",
       "      <td>2.75</td>\n",
       "      <td>55.28</td>\n",
       "      <td>NaN</td>\n",
       "      <td>NaN</td>\n",
       "      <td>1993.0</td>\n",
       "      <td>A</td>\n",
       "      <td>MNIFEMLRIDEGLRLKIYKDTEGYYTIGIGHLLTKSPSLNAAAKSE...</td>\n",
       "      <td>165</td>\n",
       "      <td>Protein</td>\n",
       "    </tr>\n",
       "    <tr>\n",
       "      <th>8</th>\n",
       "      <td>102M</td>\n",
       "      <td>OXYGEN TRANSPORT</td>\n",
       "      <td>X-RAY DIFFRACTION</td>\n",
       "      <td>Protein</td>\n",
       "      <td>154</td>\n",
       "      <td>1.84</td>\n",
       "      <td>18010.64</td>\n",
       "      <td>NaN</td>\n",
       "      <td>NaN</td>\n",
       "      <td>3.09</td>\n",
       "      <td>60.20</td>\n",
       "      <td>3.0 M AMMONIUM SULFATE, 20 MM TRIS, 1MM EDTA, ...</td>\n",
       "      <td>9.0</td>\n",
       "      <td>1999.0</td>\n",
       "      <td>A</td>\n",
       "      <td>MVLSEGEWQLVLHVWAKVEADVAGHGQDILIRLFKSHPETLEKFDR...</td>\n",
       "      <td>154</td>\n",
       "      <td>Protein</td>\n",
       "    </tr>\n",
       "    <tr>\n",
       "      <th>11</th>\n",
       "      <td>103L</td>\n",
       "      <td>HYDROLASE(O-GLYCOSYL)</td>\n",
       "      <td>X-RAY DIFFRACTION</td>\n",
       "      <td>Protein</td>\n",
       "      <td>167</td>\n",
       "      <td>1.90</td>\n",
       "      <td>19092.72</td>\n",
       "      <td>NaN</td>\n",
       "      <td>NaN</td>\n",
       "      <td>2.70</td>\n",
       "      <td>54.46</td>\n",
       "      <td>NaN</td>\n",
       "      <td>NaN</td>\n",
       "      <td>1993.0</td>\n",
       "      <td>A</td>\n",
       "      <td>MNIFEMLRIDEGLRLKIYKDTEGYYTIGIGHLLTKSPSLNSLDAAK...</td>\n",
       "      <td>167</td>\n",
       "      <td>Protein</td>\n",
       "    </tr>\n",
       "    <tr>\n",
       "      <th>15</th>\n",
       "      <td>104L</td>\n",
       "      <td>HYDROLASE(O-GLYCOSYL)</td>\n",
       "      <td>X-RAY DIFFRACTION</td>\n",
       "      <td>Protein</td>\n",
       "      <td>332</td>\n",
       "      <td>2.80</td>\n",
       "      <td>37541.04</td>\n",
       "      <td>NaN</td>\n",
       "      <td>NaN</td>\n",
       "      <td>3.04</td>\n",
       "      <td>59.49</td>\n",
       "      <td>NaN</td>\n",
       "      <td>NaN</td>\n",
       "      <td>1993.0</td>\n",
       "      <td>A</td>\n",
       "      <td>MNIFEMLRIDEGLRLKIYKDTEGYYTIGIGHLLTKSPSLNAAKSAA...</td>\n",
       "      <td>332</td>\n",
       "      <td>Protein</td>\n",
       "    </tr>\n",
       "  </tbody>\n",
       "</table>\n",
       "</div>"
      ],
      "text/plain": [
       "   structureId         classification experimentalTechnique  \\\n",
       "4         101M       OXYGEN TRANSPORT     X-RAY DIFFRACTION   \n",
       "7         102L  HYDROLASE(O-GLYCOSYL)     X-RAY DIFFRACTION   \n",
       "8         102M       OXYGEN TRANSPORT     X-RAY DIFFRACTION   \n",
       "11        103L  HYDROLASE(O-GLYCOSYL)     X-RAY DIFFRACTION   \n",
       "15        104L  HYDROLASE(O-GLYCOSYL)     X-RAY DIFFRACTION   \n",
       "\n",
       "   macromoleculeType_x  residueCount_x  resolution  structureMolecularWeight  \\\n",
       "4              Protein             154        2.07                  18112.80   \n",
       "7              Protein             165        1.74                  18926.61   \n",
       "8              Protein             154        1.84                  18010.64   \n",
       "11             Protein             167        1.90                  19092.72   \n",
       "15             Protein             332        2.80                  37541.04   \n",
       "\n",
       "   crystallizationMethod  crystallizationTempK  densityMatthews  \\\n",
       "4                    NaN                   NaN             3.09   \n",
       "7                    NaN                   NaN             2.75   \n",
       "8                    NaN                   NaN             3.09   \n",
       "11                   NaN                   NaN             2.70   \n",
       "15                   NaN                   NaN             3.04   \n",
       "\n",
       "    densityPercentSol                                        pdbxDetails  \\\n",
       "4               60.20  3.0 M AMMONIUM SULFATE, 20 MM TRIS, 1MM EDTA, ...   \n",
       "7               55.28                                                NaN   \n",
       "8               60.20  3.0 M AMMONIUM SULFATE, 20 MM TRIS, 1MM EDTA, ...   \n",
       "11              54.46                                                NaN   \n",
       "15              59.49                                                NaN   \n",
       "\n",
       "    phValue  publicationYear chainId  \\\n",
       "4       9.0           1999.0       A   \n",
       "7       NaN           1993.0       A   \n",
       "8       9.0           1999.0       A   \n",
       "11      NaN           1993.0       A   \n",
       "15      NaN           1993.0       A   \n",
       "\n",
       "                                             sequence  residueCount_y  \\\n",
       "4   MVLSEGEWQLVLHVWAKVEADVAGHGQDILIRLFKSHPETLEKFDR...             154   \n",
       "7   MNIFEMLRIDEGLRLKIYKDTEGYYTIGIGHLLTKSPSLNAAAKSE...             165   \n",
       "8   MVLSEGEWQLVLHVWAKVEADVAGHGQDILIRLFKSHPETLEKFDR...             154   \n",
       "11  MNIFEMLRIDEGLRLKIYKDTEGYYTIGIGHLLTKSPSLNSLDAAK...             167   \n",
       "15  MNIFEMLRIDEGLRLKIYKDTEGYYTIGIGHLLTKSPSLNAAKSAA...             332   \n",
       "\n",
       "   macromoleculeType_y  \n",
       "4              Protein  \n",
       "7              Protein  \n",
       "8              Protein  \n",
       "11             Protein  \n",
       "15             Protein  "
      ]
     },
     "execution_count": 8,
     "metadata": {},
     "output_type": "execute_result"
    }
   ],
   "source": [
    "# Read and combine data sequences with family classification. Drop duplicates\n",
    "df = pd.read_csv(input_dir+'pdb_data_no_dups.csv').merge(pd.read_csv(input_dir+'pdb_data_seq.csv'), how='inner', on='structureId').drop_duplicates([\"sequence\"]) # ,\"classification\"\n",
    "# Drop rows with missing labels and empty sequences\n",
    "df = df[[type(c) == type('') for c in df.classification.values]]\n",
    "df = df[[type(c) == type('') for c in df.sequence.values]]\n",
    "# Keep only proteins\n",
    "df = df[df.macromoleculeType_x == 'Protein']\n",
    "df.reset_index()\n",
    "print(df.shape)\n",
    "df.head()"
   ]
  },
  {
   "cell_type": "code",
   "execution_count": 9,
   "metadata": {},
   "outputs": [],
   "source": [
    "#Model Building\n",
    "def train_model(classifier, feature_vector_train, label, feature_vector_valid, valid_y, is_neural_net=False, return_model=False):\n",
    "    # fit the training dataset on the classifier\n",
    "    classifier.fit(feature_vector_train, label)\n",
    "    \n",
    "    # predict the labels on validation dataset\n",
    "    predictions = classifier.predict(feature_vector_valid)\n",
    "    \n",
    "    if is_neural_net:\n",
    "        predictions = predictions.argmax(axis=-1)\n",
    "    \n",
    "    if return_model:\n",
    "        return (metrics.accuracy_score(predictions, valid_y),classifier)\n",
    "    else:\n",
    "        return metrics.accuracy_score(predictions, valid_y)"
   ]
  },
  {
   "cell_type": "code",
   "execution_count": 10,
   "metadata": {},
   "outputs": [],
   "source": [
    "#Select only protein in the top classes\n",
    "top_classes=10\n",
    "cnt = Counter(df.classification)\n",
    "most_common_classes = cnt.most_common()[:top_classes]\n",
    "most_common_classes = [c[0] for c in most_common_classes ]\n",
    "df=df[df.classification.isin(most_common_classes)]"
   ]
  },
  {
   "cell_type": "code",
   "execution_count": 12,
   "metadata": {},
   "outputs": [],
   "source": [
    "#Y values\n",
    "lb = LabelEncoder()\n",
    "Y = lb.fit_transform(df.classification)"
   ]
  },
  {
   "cell_type": "code",
   "execution_count": 17,
   "metadata": {},
   "outputs": [],
   "source": [
    "# Tokenization of sequences\n",
    "max_length = 300\n",
    "seqs = df.sequence.values\n",
    "#create and fit tokenizer\n",
    "tokenizer = Tokenizer(char_level=True)\n",
    "tokenizer.fit_on_texts(seqs)\n",
    "#represent input data as word rank number sequences\n",
    "X = tokenizer.texts_to_sequences(seqs)\n",
    "X = sequence.pad_sequences(X, maxlen=max_length)\n",
    "X = [ \" \".join(map(str,x)) for x in X]"
   ]
  },
  {
   "cell_type": "code",
   "execution_count": 18,
   "metadata": {},
   "outputs": [],
   "source": [
    "#Split datasets for train and testing\n",
    "X_train, X_aux, Y_train, Y_aux= model_selection.train_test_split(X,Y,random_state=random.randint(0,1000000), test_size=0.3, stratify=Y)\n",
    "X_test, X_valid, Y_test, Y_valid= model_selection.train_test_split(X_aux,Y_aux,random_state=random.randint(0,1000000), test_size=0.5, stratify=Y_aux)"
   ]
  },
  {
   "cell_type": "code",
   "execution_count": 19,
   "metadata": {},
   "outputs": [],
   "source": [
    "#Conversion of tokenized sequences to tf-df n-grams and posterior reduction singular value decomposition\n",
    "#Based on the sequences in the training set\n",
    "max_features=20000\n",
    "tfidf_vect_ngram = TfidfVectorizer(analyzer='word', token_pattern=r'\\w{1,}', ngram_range=(1,3), max_features=max_features)\n",
    "tfidf_vect_ngram.fit(X_train)\n",
    "svd = TruncatedSVD(n_components=2000, n_iter=100, random_state=random.randint(0,1000000))\n",
    "X_train =  svd.fit_transform(tfidf_vect_ngram.transform(X_train))\n",
    "X_valid =  svd.transform(tfidf_vect_ngram.transform(X_valid))\n",
    "X_test =  svd.transform(tfidf_vect_ngram.transform(X_test))"
   ]
  },
  {
   "cell_type": "code",
   "execution_count": 20,
   "metadata": {},
   "outputs": [
    {
     "data": {
      "text/plain": [
       "(31913, 2000)"
      ]
     },
     "execution_count": 20,
     "metadata": {},
     "output_type": "execute_result"
    }
   ],
   "source": [
    "X_train.shape"
   ]
  },
  {
   "cell_type": "code",
   "execution_count": 23,
   "metadata": {},
   "outputs": [
    {
     "data": {
      "text/plain": [
       "array([7, 8, 3, 2, 7, 7, 5, 2, 7, 7])"
      ]
     },
     "execution_count": 23,
     "metadata": {},
     "output_type": "execute_result"
    }
   ],
   "source": [
    "Y_train[0:10]"
   ]
  },
  {
   "cell_type": "code",
   "execution_count": 80,
   "metadata": {},
   "outputs": [],
   "source": [
    "#Y_train2=[y.argmax() for y in Y_train]\n",
    "#Y_test2=[y.argmax() for y in Y_test]\n",
    "#Y_valid2=[y.argmax() for y in Y_valid]"
   ]
  },
  {
   "cell_type": "code",
   "execution_count": 36,
   "metadata": {},
   "outputs": [
    {
     "name": "stdout",
     "output_type": "stream",
     "text": [
      "RF, N-Gram Vectors:  0.6356192425793245\n"
     ]
    }
   ],
   "source": [
    "#Training Random Forest\n",
    "n_estimators=100\n",
    "accuracy,rf= train_model(ensemble.RandomForestClassifier(n_estimators=n_estimators), X_train, Y_train, X_valid, Y_valid, return_model=True)\n",
    "print(\"RF, N-Gram Vectors: \", accuracy)\n"
   ]
  },
  {
   "cell_type": "code",
   "execution_count": 44,
   "metadata": {},
   "outputs": [],
   "source": [
    "#Save model\n",
    "pickle.dump(rf, open(output_dir+'random_forest.mod','wb'))\n",
    "#Save encoder\n",
    "pickle.dump(lb, open(output_dir+'label_encoder.pck','wb')) \n",
    "#Save Tokenizer\n",
    "pickle.dump(tokenizer, open(output_dir+'/tokenizer.pck','wb')) \n",
    "#Save tfidf\n",
    "pickle.dump(tfidf_vect_ngram, open(output_dir+'tfidf.pck','wb'))\n",
    "#save \n",
    "pickle.dump(svd, open(output_dir/'svd.pck','wb'))"
   ]
  },
  {
   "cell_type": "code",
   "execution_count": 37,
   "metadata": {},
   "outputs": [
    {
     "name": "stdout",
     "output_type": "stream",
     "text": [
      "test-acc = 0.6411756104693669\n"
     ]
    }
   ],
   "source": [
    "#Evaluate predictions on test set \n",
    "preds=rf.predict(X_test)\n",
    "print(\"test-acc = \" + str(accuracy_score(preds,Y_test)))"
   ]
  },
  {
   "cell_type": "code",
   "execution_count": 42,
   "metadata": {},
   "outputs": [],
   "source": [
    "cm = confusion_matrix(Y_test, preds)"
   ]
  },
  {
   "cell_type": "code",
   "execution_count": 39,
   "metadata": {},
   "outputs": [
    {
     "data": {
      "text/plain": [
       "array([[1575,   38,    2,   17,   11,    7,   18,  101,    1,    4],\n",
       "       [  97,  640,    0,    2,    5,    3,    7,    9,    0,    4],\n",
       "       [ 117,    1,  189,   15,    3,    0,    3,   40,    0,    0],\n",
       "       [ 292,   11,    1,  628,    3,    2,   11,   85,    0,    0],\n",
       "       [ 111,   28,    0,    3,   52,   15,   35,   21,    5,    0],\n",
       "       [ 130,   23,    0,    7,   23,  102,   39,   25,    0,    0],\n",
       "       [ 128,   18,    0,    3,   18,    4,  177,   39,    0,    2],\n",
       "       [ 406,   29,    2,   31,   10,    6,   30,  794,    0,    1],\n",
       "       [ 132,   12,    0,    9,    3,    4,   11,   26,  121,    0],\n",
       "       [  94,   18,    0,    4,    5,    3,   17,   14,    0,  107]])"
      ]
     },
     "execution_count": 39,
     "metadata": {},
     "output_type": "execute_result"
    }
   ],
   "source": [
    "cm"
   ]
  },
  {
   "cell_type": "code",
   "execution_count": 34,
   "metadata": {},
   "outputs": [
    {
     "data": {
      "image/png": "[encoded data removed]",
      "text/plain": [
       "<Figure size 720x720 with 2 Axes>"
      ]
     },
     "metadata": {
      "needs_background": "light"
     },
     "output_type": "display_data"
    }
   ],
   "source": [
    "cm = cm.astype('float') / cm.sum(axis=1)[:, np.newaxis]\n",
    "np.set_printoptions(precision=2)\n",
    "plt.figure(figsize=(10,10))\n",
    "plt.imshow(cm, interpolation='nearest', cmap=plt.cm.Blues)\n",
    "plt.title('Confusion matrix')\n",
    "plt.colorbar()\n",
    "tick_marks = np.arange(len(lb.classes_))\n",
    "plt.xticks(tick_marks, lb.classes_, rotation=90)\n",
    "plt.yticks(tick_marks, lb.classes_)\n",
    "#for i, j in itertools.product(range(cm.shape[0]), range(cm.shape[1])):\n",
    "#    plt.text(j, i, format(cm[i, j], '.2f'), horizontalalignment=\"center\", color=\"white\" if cm[i, j] > cm.max() / 2. else \"black\")\n",
    "plt.ylabel('True label')\n",
    "plt.xlabel('Predicted label')\n",
    "plt.show()"
   ]
  },
  {
   "cell_type": "code",
   "execution_count": null,
   "metadata": {},
   "outputs": [],
   "source": []
  }
 ],
 "metadata": {
  "kernelspec": {
   "display_name": "Python 3",
   "language": "python",
   "name": "python3"
  },
  "language_info": {
   "codemirror_mode": {
    "name": "ipython",
    "version": 3
   },
   "file_extension": ".py",
   "mimetype": "text/x-python",
   "name": "python",
   "nbconvert_exporter": "python",
   "pygments_lexer": "ipython3",
   "version": "3.7.3"
  }
 },
 "nbformat": 4,
 "nbformat_minor": 2
}
